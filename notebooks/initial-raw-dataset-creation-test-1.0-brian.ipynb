{
 "cells": [
  {
   "cell_type": "code",
   "execution_count": 1,
   "id": "bce28397",
   "metadata": {},
   "outputs": [],
   "source": [
    "import sys\n",
    "import os\n",
    "import pandas as pd\n",
    "sys.path.append(\"..\")"
   ]
  },
  {
   "cell_type": "code",
   "execution_count": 36,
   "id": "66559a44",
   "metadata": {},
   "outputs": [],
   "source": [
    "from src.utils.constants import get_folders_constants\n",
    "from src.utils.files import generate_full_csv_filename"
   ]
  },
  {
   "cell_type": "code",
   "execution_count": 37,
   "id": "9b75a526",
   "metadata": {},
   "outputs": [
    {
     "name": "stdout",
     "output_type": "stream",
     "text": [
      "------------------------------------------------------------\n",
      "Creating full dataset for advanced_stats folder\n",
      "Reading 33 datasets.\n",
      "Merging 33 datasets into one\n",
      "Saving full dataset in d:\\home\\documents\\brian\\develop\\projects\\machine learning\\beginner\\linear regression\\predicting_nba_wins\\data\\raw\\advanced_stats_full_dataset_raw_1990_2022.csv\n",
      "Success!\n",
      "------------------------------------------------------------\n",
      "Creating full dataset for per_100_possesions_stats folder\n",
      "Reading 33 datasets.\n",
      "Merging 33 datasets into one\n",
      "Saving full dataset in d:\\home\\documents\\brian\\develop\\projects\\machine learning\\beginner\\linear regression\\predicting_nba_wins\\data\\raw\\per_100_possesions_stats_full_dataset_raw_1990_2022.csv\n",
      "Success!\n",
      "------------------------------------------------------------\n",
      "Creating full dataset for per_game_stats folder\n",
      "Reading 33 datasets.\n",
      "Merging 33 datasets into one\n",
      "Saving full dataset in d:\\home\\documents\\brian\\develop\\projects\\machine learning\\beginner\\linear regression\\predicting_nba_wins\\data\\raw\\per_game_stats_full_dataset_raw_1990_2022.csv\n",
      "Success!\n",
      "------------------------------------------------------------\n",
      "Creating full dataset for season_total_stats folder\n",
      "Reading 33 datasets.\n",
      "Merging 33 datasets into one\n",
      "Saving full dataset in d:\\home\\documents\\brian\\develop\\projects\\machine learning\\beginner\\linear regression\\predicting_nba_wins\\data\\raw\\season_total_stats_full_dataset_raw_1990_2022.csv\n",
      "Success!\n"
     ]
    }
   ],
   "source": [
    "scraped_data_csv_folders_path = get_folders_constants()[\n",
    "    'EXTERNAL_CSV_BASE_FILEPATH']\n",
    "\n",
    "scraped_data_csv_folders_csv_folders = list(filter(\n",
    "    lambda filename: filename.endswith('stats'), os.listdir(scraped_data_csv_folders_path))\n",
    ")\n",
    "\n",
    "for folder in scraped_data_csv_folders_csv_folders:\n",
    "    print(\"------------------------------------------------------------\")\n",
    "    print(f\"Creating full dataset for {folder} folder\")\n",
    "   \n",
    "    folder_csv_files_path = os.path.join(scraped_data_csv_folders_path, folder)\n",
    "    folder_csv_filenames = [os.path.join(folder_csv_files_path, filename)\n",
    "                            for filename in os.listdir(folder_csv_files_path)]\n",
    "    print(f\"Reading {len(folder_csv_filenames)} datasets.\")\n",
    "    print(f\"Merging {len(folder_csv_filenames)} datasets into one\")\n",
    "    raw_full_dataset = pd.concat([\n",
    "        pd.read_csv(csv_file) for csv_file in folder_csv_filenames\n",
    "    ])\n",
    "    raw_full_dataset_filepath = generate_full_csv_filename(f'{folder}_full_dataset', 'raw')\n",
    "    print(f\"Saving full dataset in {raw_full_dataset_filepath}\")\n",
    "    raw_full_dataset.to_csv(raw_full_dataset_filepath)\n",
    "    print(\"Success!\")"
   ]
  },
  {
   "cell_type": "code",
   "execution_count": null,
   "id": "f3d07afc",
   "metadata": {},
   "outputs": [],
   "source": []
  }
 ],
 "metadata": {
  "kernelspec": {
   "display_name": "Python 3 (ipykernel)",
   "language": "python",
   "name": "python3"
  },
  "language_info": {
   "codemirror_mode": {
    "name": "ipython",
    "version": 3
   },
   "file_extension": ".py",
   "mimetype": "text/x-python",
   "name": "python",
   "nbconvert_exporter": "python",
   "pygments_lexer": "ipython3",
   "version": "3.9.5"
  },
  "toc": {
   "base_numbering": 1,
   "nav_menu": {},
   "number_sections": true,
   "sideBar": true,
   "skip_h1_title": false,
   "title_cell": "Table of Contents",
   "title_sidebar": "Contents",
   "toc_cell": false,
   "toc_position": {},
   "toc_section_display": true,
   "toc_window_display": false
  }
 },
 "nbformat": 4,
 "nbformat_minor": 5
}
