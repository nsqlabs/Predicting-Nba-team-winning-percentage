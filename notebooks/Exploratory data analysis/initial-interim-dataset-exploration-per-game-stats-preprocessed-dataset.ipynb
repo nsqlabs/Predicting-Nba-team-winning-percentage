{
 "cells": [
  {
   "cell_type": "markdown",
   "id": "29fef197",
   "metadata": {},
   "source": [
    "# Importing libraries and loading src packages"
   ]
  },
  {
   "cell_type": "code",
   "execution_count": 26,
   "id": "af3e4665",
   "metadata": {},
   "outputs": [],
   "source": [
    "import sys\n",
    "import os\n",
    "import pandas as pd\n",
    "import numpy as np\n",
    "import seaborn as sns\n",
    "import matplotlib.pyplot as plt\n",
    "from dataprep import eda"
   ]
  },
  {
   "cell_type": "code",
   "execution_count": 27,
   "id": "31871f11",
   "metadata": {},
   "outputs": [],
   "source": [
    "sys.path.append(\"..\")"
   ]
  },
  {
   "cell_type": "markdown",
   "id": "60f600f3",
   "metadata": {},
   "source": [
    "## Importing intern packages"
   ]
  },
  {
   "cell_type": "code",
   "execution_count": 28,
   "id": "8d257f24",
   "metadata": {},
   "outputs": [],
   "source": [
    "from src.utils.constants import get_folders_constants"
   ]
  },
  {
   "cell_type": "markdown",
   "id": "4d995205",
   "metadata": {},
   "source": [
    "# Importing Stats Per game dataset for initial exploration"
   ]
  },
  {
   "cell_type": "code",
   "execution_count": 29,
   "id": "5c4943f7",
   "metadata": {},
   "outputs": [],
   "source": [
    "INTERIM_CSV_BASE_FILEPATH = get_folders_constants()['INTERIM_CSV_BASE_FILEPATH']\n",
    "\n",
    "PER_GAME_STATS_INTERIM_DATASET_FILENAME = list(\n",
    "    filter(\n",
    "        lambda filename: 'per_game' in filename,\n",
    "        os.listdir(INTERIM_CSV_BASE_FILEPATH)\n",
    "    )\n",
    ")[0]\n",
    "\n",
    "PER_GAME_STATS_INTERIM_DATASET_FILE_PATH = os.path.join(INTERIM_CSV_BASE_FILEPATH, PER_GAME_STATS_INTERIM_DATASET_FILENAME)"
   ]
  },
  {
   "cell_type": "code",
   "execution_count": 30,
   "id": "1b7a830b",
   "metadata": {},
   "outputs": [],
   "source": [
    "per_game_stats_full_dataset_interim_df = pd.read_csv(PER_GAME_STATS_INTERIM_DATASET_FILE_PATH)"
   ]
  },
  {
   "cell_type": "code",
   "execution_count": 31,
   "id": "a66879bc",
   "metadata": {},
   "outputs": [
    {
     "data": {
      "text/html": [
       "<div>\n",
       "<style scoped>\n",
       "    .dataframe tbody tr th:only-of-type {\n",
       "        vertical-align: middle;\n",
       "    }\n",
       "\n",
       "    .dataframe tbody tr th {\n",
       "        vertical-align: top;\n",
       "    }\n",
       "\n",
       "    .dataframe thead th {\n",
       "        text-align: right;\n",
       "    }\n",
       "</style>\n",
       "<table border=\"1\" class=\"dataframe\">\n",
       "  <thead>\n",
       "    <tr style=\"text-align: right;\">\n",
       "      <th></th>\n",
       "      <th>Team</th>\n",
       "      <th>G</th>\n",
       "      <th>MP</th>\n",
       "      <th>FG</th>\n",
       "      <th>FGA</th>\n",
       "      <th>FG%</th>\n",
       "      <th>3P</th>\n",
       "      <th>3PA</th>\n",
       "      <th>3P%</th>\n",
       "      <th>2P</th>\n",
       "      <th>...</th>\n",
       "      <th>AST</th>\n",
       "      <th>STL</th>\n",
       "      <th>BLK</th>\n",
       "      <th>TOV</th>\n",
       "      <th>PF</th>\n",
       "      <th>PTS</th>\n",
       "      <th>Season</th>\n",
       "      <th>Playoffs</th>\n",
       "      <th>W</th>\n",
       "      <th>L</th>\n",
       "    </tr>\n",
       "  </thead>\n",
       "  <tbody>\n",
       "    <tr>\n",
       "      <th>0</th>\n",
       "      <td>Phoenix Suns</td>\n",
       "      <td>82</td>\n",
       "      <td>240.6</td>\n",
       "      <td>43.7</td>\n",
       "      <td>90.1</td>\n",
       "      <td>0.485</td>\n",
       "      <td>11.6</td>\n",
       "      <td>31.9</td>\n",
       "      <td>0.364</td>\n",
       "      <td>32.1</td>\n",
       "      <td>...</td>\n",
       "      <td>27.4</td>\n",
       "      <td>8.6</td>\n",
       "      <td>4.4</td>\n",
       "      <td>12.9</td>\n",
       "      <td>19.9</td>\n",
       "      <td>114.8</td>\n",
       "      <td>2022</td>\n",
       "      <td>1</td>\n",
       "      <td>64.0</td>\n",
       "      <td>18.0</td>\n",
       "    </tr>\n",
       "    <tr>\n",
       "      <th>1</th>\n",
       "      <td>Memphis Grizzlies</td>\n",
       "      <td>82</td>\n",
       "      <td>241.2</td>\n",
       "      <td>43.5</td>\n",
       "      <td>94.4</td>\n",
       "      <td>0.461</td>\n",
       "      <td>11.5</td>\n",
       "      <td>32.7</td>\n",
       "      <td>0.353</td>\n",
       "      <td>32.0</td>\n",
       "      <td>...</td>\n",
       "      <td>26.0</td>\n",
       "      <td>9.8</td>\n",
       "      <td>6.5</td>\n",
       "      <td>13.2</td>\n",
       "      <td>19.8</td>\n",
       "      <td>115.6</td>\n",
       "      <td>2022</td>\n",
       "      <td>1</td>\n",
       "      <td>56.0</td>\n",
       "      <td>26.0</td>\n",
       "    </tr>\n",
       "    <tr>\n",
       "      <th>2</th>\n",
       "      <td>Golden State Warriors</td>\n",
       "      <td>82</td>\n",
       "      <td>240.6</td>\n",
       "      <td>40.5</td>\n",
       "      <td>86.4</td>\n",
       "      <td>0.469</td>\n",
       "      <td>14.3</td>\n",
       "      <td>39.4</td>\n",
       "      <td>0.364</td>\n",
       "      <td>26.2</td>\n",
       "      <td>...</td>\n",
       "      <td>27.1</td>\n",
       "      <td>8.8</td>\n",
       "      <td>4.5</td>\n",
       "      <td>14.9</td>\n",
       "      <td>21.0</td>\n",
       "      <td>111.0</td>\n",
       "      <td>2022</td>\n",
       "      <td>1</td>\n",
       "      <td>53.0</td>\n",
       "      <td>29.0</td>\n",
       "    </tr>\n",
       "    <tr>\n",
       "      <th>3</th>\n",
       "      <td>Miami Heat</td>\n",
       "      <td>82</td>\n",
       "      <td>242.1</td>\n",
       "      <td>39.6</td>\n",
       "      <td>84.8</td>\n",
       "      <td>0.467</td>\n",
       "      <td>13.6</td>\n",
       "      <td>35.8</td>\n",
       "      <td>0.379</td>\n",
       "      <td>26.0</td>\n",
       "      <td>...</td>\n",
       "      <td>25.5</td>\n",
       "      <td>7.4</td>\n",
       "      <td>3.2</td>\n",
       "      <td>14.6</td>\n",
       "      <td>20.5</td>\n",
       "      <td>110.0</td>\n",
       "      <td>2022</td>\n",
       "      <td>1</td>\n",
       "      <td>53.0</td>\n",
       "      <td>29.0</td>\n",
       "    </tr>\n",
       "    <tr>\n",
       "      <th>4</th>\n",
       "      <td>Dallas Mavericks</td>\n",
       "      <td>82</td>\n",
       "      <td>240.9</td>\n",
       "      <td>39.3</td>\n",
       "      <td>85.1</td>\n",
       "      <td>0.461</td>\n",
       "      <td>13.1</td>\n",
       "      <td>37.4</td>\n",
       "      <td>0.350</td>\n",
       "      <td>26.2</td>\n",
       "      <td>...</td>\n",
       "      <td>23.4</td>\n",
       "      <td>6.7</td>\n",
       "      <td>4.0</td>\n",
       "      <td>12.5</td>\n",
       "      <td>19.7</td>\n",
       "      <td>108.0</td>\n",
       "      <td>2022</td>\n",
       "      <td>1</td>\n",
       "      <td>52.0</td>\n",
       "      <td>30.0</td>\n",
       "    </tr>\n",
       "  </tbody>\n",
       "</table>\n",
       "<p>5 rows × 28 columns</p>\n",
       "</div>"
      ],
      "text/plain": [
       "                    Team   G     MP    FG   FGA    FG%    3P   3PA    3P%  \\\n",
       "0           Phoenix Suns  82  240.6  43.7  90.1  0.485  11.6  31.9  0.364   \n",
       "1      Memphis Grizzlies  82  241.2  43.5  94.4  0.461  11.5  32.7  0.353   \n",
       "2  Golden State Warriors  82  240.6  40.5  86.4  0.469  14.3  39.4  0.364   \n",
       "3             Miami Heat  82  242.1  39.6  84.8  0.467  13.6  35.8  0.379   \n",
       "4       Dallas Mavericks  82  240.9  39.3  85.1  0.461  13.1  37.4  0.350   \n",
       "\n",
       "     2P  ...   AST  STL  BLK   TOV    PF    PTS  Season  Playoffs     W     L  \n",
       "0  32.1  ...  27.4  8.6  4.4  12.9  19.9  114.8    2022         1  64.0  18.0  \n",
       "1  32.0  ...  26.0  9.8  6.5  13.2  19.8  115.6    2022         1  56.0  26.0  \n",
       "2  26.2  ...  27.1  8.8  4.5  14.9  21.0  111.0    2022         1  53.0  29.0  \n",
       "3  26.0  ...  25.5  7.4  3.2  14.6  20.5  110.0    2022         1  53.0  29.0  \n",
       "4  26.2  ...  23.4  6.7  4.0  12.5  19.7  108.0    2022         1  52.0  30.0  \n",
       "\n",
       "[5 rows x 28 columns]"
      ]
     },
     "execution_count": 31,
     "metadata": {},
     "output_type": "execute_result"
    }
   ],
   "source": [
    "per_game_stats_full_dataset_interim_df.head()"
   ]
  },
  {
   "cell_type": "markdown",
   "id": "ee42f88e",
   "metadata": {},
   "source": [
    "# Exploratory data analyisis"
   ]
  },
  {
   "cell_type": "markdown",
   "id": "0bbe3471",
   "metadata": {},
   "source": [
    "## First step: Understanding dataset\n",
    "\n",
    "> You don’t know what you don’t know. And if you don’t know what you don’t know, then how are you supposed to know whether your insights make sense or not? You won’t."
   ]
  },
  {
   "cell_type": "markdown",
   "id": "872f3af3",
   "metadata": {},
   "source": [
    "### N of features"
   ]
  },
  {
   "cell_type": "code",
   "execution_count": 32,
   "id": "b716652f",
   "metadata": {},
   "outputs": [
    {
     "name": "stdout",
     "output_type": "stream",
     "text": [
      "Our dataset contains 963 rows and 28 features\n"
     ]
    }
   ],
   "source": [
    "print(\"Our dataset contains {} rows and {} features\".format(\n",
    "    *per_game_stats_full_dataset_interim_df.shape\n",
    "))"
   ]
  },
  {
   "cell_type": "markdown",
   "id": "19d2d09a",
   "metadata": {},
   "source": [
    "### Columns in the dataset"
   ]
  },
  {
   "cell_type": "code",
   "execution_count": 33,
   "id": "88a0ea1d",
   "metadata": {},
   "outputs": [
    {
     "data": {
      "text/plain": [
       "Index(['Team', 'G', 'MP', 'FG', 'FGA', 'FG%', '3P', '3PA', '3P%', '2P', '2PA',\n",
       "       '2P%', 'FT', 'FTA', 'FT%', 'ORB', 'DRB', 'TRB', 'AST', 'STL', 'BLK',\n",
       "       'TOV', 'PF', 'PTS', 'Season', 'Playoffs', 'W', 'L'],\n",
       "      dtype='object')"
      ]
     },
     "execution_count": 33,
     "metadata": {},
     "output_type": "execute_result"
    }
   ],
   "source": [
    "per_game_stats_full_dataset_interim_df.columns"
   ]
  },
  {
   "cell_type": "markdown",
   "id": "80e59d14",
   "metadata": {},
   "source": [
    "### Type of columns"
   ]
  },
  {
   "cell_type": "code",
   "execution_count": 34,
   "id": "58516d95",
   "metadata": {},
   "outputs": [
    {
     "name": "stdout",
     "output_type": "stream",
     "text": [
      "<class 'pandas.core.frame.DataFrame'>\n",
      "RangeIndex: 963 entries, 0 to 962\n",
      "Data columns (total 28 columns):\n",
      " #   Column    Non-Null Count  Dtype  \n",
      "---  ------    --------------  -----  \n",
      " 0   Team      963 non-null    object \n",
      " 1   G         963 non-null    int64  \n",
      " 2   MP        963 non-null    float64\n",
      " 3   FG        963 non-null    float64\n",
      " 4   FGA       963 non-null    float64\n",
      " 5   FG%       963 non-null    float64\n",
      " 6   3P        963 non-null    float64\n",
      " 7   3PA       963 non-null    float64\n",
      " 8   3P%       963 non-null    float64\n",
      " 9   2P        963 non-null    float64\n",
      " 10  2PA       963 non-null    float64\n",
      " 11  2P%       963 non-null    float64\n",
      " 12  FT        963 non-null    float64\n",
      " 13  FTA       963 non-null    float64\n",
      " 14  FT%       963 non-null    float64\n",
      " 15  ORB       963 non-null    float64\n",
      " 16  DRB       963 non-null    float64\n",
      " 17  TRB       963 non-null    float64\n",
      " 18  AST       963 non-null    float64\n",
      " 19  STL       963 non-null    float64\n",
      " 20  BLK       963 non-null    float64\n",
      " 21  TOV       963 non-null    float64\n",
      " 22  PF        963 non-null    float64\n",
      " 23  PTS       963 non-null    float64\n",
      " 24  Season    963 non-null    int64  \n",
      " 25  Playoffs  963 non-null    int64  \n",
      " 26  W         963 non-null    float64\n",
      " 27  L         963 non-null    float64\n",
      "dtypes: float64(24), int64(3), object(1)\n",
      "memory usage: 210.8+ KB\n"
     ]
    }
   ],
   "source": [
    "per_game_stats_full_dataset_interim_df.info()"
   ]
  },
  {
   "cell_type": "markdown",
   "id": "fda85da5",
   "metadata": {},
   "source": [
    "### First 5 rows"
   ]
  },
  {
   "cell_type": "code",
   "execution_count": 35,
   "id": "c098dc9e",
   "metadata": {},
   "outputs": [
    {
     "data": {
      "text/html": [
       "<div>\n",
       "<style scoped>\n",
       "    .dataframe tbody tr th:only-of-type {\n",
       "        vertical-align: middle;\n",
       "    }\n",
       "\n",
       "    .dataframe tbody tr th {\n",
       "        vertical-align: top;\n",
       "    }\n",
       "\n",
       "    .dataframe thead th {\n",
       "        text-align: right;\n",
       "    }\n",
       "</style>\n",
       "<table border=\"1\" class=\"dataframe\">\n",
       "  <thead>\n",
       "    <tr style=\"text-align: right;\">\n",
       "      <th></th>\n",
       "      <th>Team</th>\n",
       "      <th>G</th>\n",
       "      <th>MP</th>\n",
       "      <th>FG</th>\n",
       "      <th>FGA</th>\n",
       "      <th>FG%</th>\n",
       "      <th>3P</th>\n",
       "      <th>3PA</th>\n",
       "      <th>3P%</th>\n",
       "      <th>2P</th>\n",
       "      <th>...</th>\n",
       "      <th>AST</th>\n",
       "      <th>STL</th>\n",
       "      <th>BLK</th>\n",
       "      <th>TOV</th>\n",
       "      <th>PF</th>\n",
       "      <th>PTS</th>\n",
       "      <th>Season</th>\n",
       "      <th>Playoffs</th>\n",
       "      <th>W</th>\n",
       "      <th>L</th>\n",
       "    </tr>\n",
       "  </thead>\n",
       "  <tbody>\n",
       "    <tr>\n",
       "      <th>0</th>\n",
       "      <td>Phoenix Suns</td>\n",
       "      <td>82</td>\n",
       "      <td>240.6</td>\n",
       "      <td>43.7</td>\n",
       "      <td>90.1</td>\n",
       "      <td>0.485</td>\n",
       "      <td>11.6</td>\n",
       "      <td>31.9</td>\n",
       "      <td>0.364</td>\n",
       "      <td>32.1</td>\n",
       "      <td>...</td>\n",
       "      <td>27.4</td>\n",
       "      <td>8.6</td>\n",
       "      <td>4.4</td>\n",
       "      <td>12.9</td>\n",
       "      <td>19.9</td>\n",
       "      <td>114.8</td>\n",
       "      <td>2022</td>\n",
       "      <td>1</td>\n",
       "      <td>64.0</td>\n",
       "      <td>18.0</td>\n",
       "    </tr>\n",
       "    <tr>\n",
       "      <th>1</th>\n",
       "      <td>Memphis Grizzlies</td>\n",
       "      <td>82</td>\n",
       "      <td>241.2</td>\n",
       "      <td>43.5</td>\n",
       "      <td>94.4</td>\n",
       "      <td>0.461</td>\n",
       "      <td>11.5</td>\n",
       "      <td>32.7</td>\n",
       "      <td>0.353</td>\n",
       "      <td>32.0</td>\n",
       "      <td>...</td>\n",
       "      <td>26.0</td>\n",
       "      <td>9.8</td>\n",
       "      <td>6.5</td>\n",
       "      <td>13.2</td>\n",
       "      <td>19.8</td>\n",
       "      <td>115.6</td>\n",
       "      <td>2022</td>\n",
       "      <td>1</td>\n",
       "      <td>56.0</td>\n",
       "      <td>26.0</td>\n",
       "    </tr>\n",
       "    <tr>\n",
       "      <th>2</th>\n",
       "      <td>Golden State Warriors</td>\n",
       "      <td>82</td>\n",
       "      <td>240.6</td>\n",
       "      <td>40.5</td>\n",
       "      <td>86.4</td>\n",
       "      <td>0.469</td>\n",
       "      <td>14.3</td>\n",
       "      <td>39.4</td>\n",
       "      <td>0.364</td>\n",
       "      <td>26.2</td>\n",
       "      <td>...</td>\n",
       "      <td>27.1</td>\n",
       "      <td>8.8</td>\n",
       "      <td>4.5</td>\n",
       "      <td>14.9</td>\n",
       "      <td>21.0</td>\n",
       "      <td>111.0</td>\n",
       "      <td>2022</td>\n",
       "      <td>1</td>\n",
       "      <td>53.0</td>\n",
       "      <td>29.0</td>\n",
       "    </tr>\n",
       "    <tr>\n",
       "      <th>3</th>\n",
       "      <td>Miami Heat</td>\n",
       "      <td>82</td>\n",
       "      <td>242.1</td>\n",
       "      <td>39.6</td>\n",
       "      <td>84.8</td>\n",
       "      <td>0.467</td>\n",
       "      <td>13.6</td>\n",
       "      <td>35.8</td>\n",
       "      <td>0.379</td>\n",
       "      <td>26.0</td>\n",
       "      <td>...</td>\n",
       "      <td>25.5</td>\n",
       "      <td>7.4</td>\n",
       "      <td>3.2</td>\n",
       "      <td>14.6</td>\n",
       "      <td>20.5</td>\n",
       "      <td>110.0</td>\n",
       "      <td>2022</td>\n",
       "      <td>1</td>\n",
       "      <td>53.0</td>\n",
       "      <td>29.0</td>\n",
       "    </tr>\n",
       "    <tr>\n",
       "      <th>4</th>\n",
       "      <td>Dallas Mavericks</td>\n",
       "      <td>82</td>\n",
       "      <td>240.9</td>\n",
       "      <td>39.3</td>\n",
       "      <td>85.1</td>\n",
       "      <td>0.461</td>\n",
       "      <td>13.1</td>\n",
       "      <td>37.4</td>\n",
       "      <td>0.350</td>\n",
       "      <td>26.2</td>\n",
       "      <td>...</td>\n",
       "      <td>23.4</td>\n",
       "      <td>6.7</td>\n",
       "      <td>4.0</td>\n",
       "      <td>12.5</td>\n",
       "      <td>19.7</td>\n",
       "      <td>108.0</td>\n",
       "      <td>2022</td>\n",
       "      <td>1</td>\n",
       "      <td>52.0</td>\n",
       "      <td>30.0</td>\n",
       "    </tr>\n",
       "  </tbody>\n",
       "</table>\n",
       "<p>5 rows × 28 columns</p>\n",
       "</div>"
      ],
      "text/plain": [
       "                    Team   G     MP    FG   FGA    FG%    3P   3PA    3P%  \\\n",
       "0           Phoenix Suns  82  240.6  43.7  90.1  0.485  11.6  31.9  0.364   \n",
       "1      Memphis Grizzlies  82  241.2  43.5  94.4  0.461  11.5  32.7  0.353   \n",
       "2  Golden State Warriors  82  240.6  40.5  86.4  0.469  14.3  39.4  0.364   \n",
       "3             Miami Heat  82  242.1  39.6  84.8  0.467  13.6  35.8  0.379   \n",
       "4       Dallas Mavericks  82  240.9  39.3  85.1  0.461  13.1  37.4  0.350   \n",
       "\n",
       "     2P  ...   AST  STL  BLK   TOV    PF    PTS  Season  Playoffs     W     L  \n",
       "0  32.1  ...  27.4  8.6  4.4  12.9  19.9  114.8    2022         1  64.0  18.0  \n",
       "1  32.0  ...  26.0  9.8  6.5  13.2  19.8  115.6    2022         1  56.0  26.0  \n",
       "2  26.2  ...  27.1  8.8  4.5  14.9  21.0  111.0    2022         1  53.0  29.0  \n",
       "3  26.0  ...  25.5  7.4  3.2  14.6  20.5  110.0    2022         1  53.0  29.0  \n",
       "4  26.2  ...  23.4  6.7  4.0  12.5  19.7  108.0    2022         1  52.0  30.0  \n",
       "\n",
       "[5 rows x 28 columns]"
      ]
     },
     "execution_count": 35,
     "metadata": {},
     "output_type": "execute_result"
    }
   ],
   "source": [
    "per_game_stats_full_dataset_interim_df.head()"
   ]
  },
  {
   "cell_type": "markdown",
   "id": "d5bf26c1",
   "metadata": {},
   "source": [
    "### Data description"
   ]
  },
  {
   "cell_type": "code",
   "execution_count": 36,
   "id": "df04a75f",
   "metadata": {},
   "outputs": [
    {
     "data": {
      "text/html": [
       "<div>\n",
       "<style scoped>\n",
       "    .dataframe tbody tr th:only-of-type {\n",
       "        vertical-align: middle;\n",
       "    }\n",
       "\n",
       "    .dataframe tbody tr th {\n",
       "        vertical-align: top;\n",
       "    }\n",
       "\n",
       "    .dataframe thead th {\n",
       "        text-align: right;\n",
       "    }\n",
       "</style>\n",
       "<table border=\"1\" class=\"dataframe\">\n",
       "  <thead>\n",
       "    <tr style=\"text-align: right;\">\n",
       "      <th></th>\n",
       "      <th>count</th>\n",
       "      <th>mean</th>\n",
       "      <th>std</th>\n",
       "      <th>min</th>\n",
       "      <th>25%</th>\n",
       "      <th>50%</th>\n",
       "      <th>75%</th>\n",
       "      <th>max</th>\n",
       "    </tr>\n",
       "  </thead>\n",
       "  <tbody>\n",
       "    <tr>\n",
       "      <th>G</th>\n",
       "      <td>963.0</td>\n",
       "      <td>79.869159</td>\n",
       "      <td>6.466410</td>\n",
       "      <td>50.000</td>\n",
       "      <td>82.000</td>\n",
       "      <td>82.000</td>\n",
       "      <td>82.000</td>\n",
       "      <td>82.000</td>\n",
       "    </tr>\n",
       "    <tr>\n",
       "      <th>MP</th>\n",
       "      <td>963.0</td>\n",
       "      <td>241.724611</td>\n",
       "      <td>0.867708</td>\n",
       "      <td>240.000</td>\n",
       "      <td>241.200</td>\n",
       "      <td>241.800</td>\n",
       "      <td>242.100</td>\n",
       "      <td>244.900</td>\n",
       "    </tr>\n",
       "    <tr>\n",
       "      <th>FG</th>\n",
       "      <td>963.0</td>\n",
       "      <td>37.907996</td>\n",
       "      <td>2.622937</td>\n",
       "      <td>30.800</td>\n",
       "      <td>36.100</td>\n",
       "      <td>37.700</td>\n",
       "      <td>39.600</td>\n",
       "      <td>47.600</td>\n",
       "    </tr>\n",
       "    <tr>\n",
       "      <th>FGA</th>\n",
       "      <td>963.0</td>\n",
       "      <td>83.024403</td>\n",
       "      <td>4.204296</td>\n",
       "      <td>71.200</td>\n",
       "      <td>80.000</td>\n",
       "      <td>82.700</td>\n",
       "      <td>86.100</td>\n",
       "      <td>108.100</td>\n",
       "    </tr>\n",
       "    <tr>\n",
       "      <th>FG%</th>\n",
       "      <td>963.0</td>\n",
       "      <td>0.456461</td>\n",
       "      <td>0.017967</td>\n",
       "      <td>0.401</td>\n",
       "      <td>0.444</td>\n",
       "      <td>0.456</td>\n",
       "      <td>0.468</td>\n",
       "      <td>0.512</td>\n",
       "    </tr>\n",
       "    <tr>\n",
       "      <th>3P</th>\n",
       "      <td>963.0</td>\n",
       "      <td>6.586189</td>\n",
       "      <td>3.111732</td>\n",
       "      <td>0.500</td>\n",
       "      <td>4.200</td>\n",
       "      <td>6.100</td>\n",
       "      <td>8.400</td>\n",
       "      <td>16.700</td>\n",
       "    </tr>\n",
       "    <tr>\n",
       "      <th>3PA</th>\n",
       "      <td>963.0</td>\n",
       "      <td>18.551298</td>\n",
       "      <td>8.386482</td>\n",
       "      <td>2.400</td>\n",
       "      <td>12.700</td>\n",
       "      <td>17.100</td>\n",
       "      <td>23.200</td>\n",
       "      <td>45.400</td>\n",
       "    </tr>\n",
       "    <tr>\n",
       "      <th>3P%</th>\n",
       "      <td>963.0</td>\n",
       "      <td>0.350398</td>\n",
       "      <td>0.025551</td>\n",
       "      <td>0.188</td>\n",
       "      <td>0.338</td>\n",
       "      <td>0.353</td>\n",
       "      <td>0.367</td>\n",
       "      <td>0.428</td>\n",
       "    </tr>\n",
       "    <tr>\n",
       "      <th>2P</th>\n",
       "      <td>963.0</td>\n",
       "      <td>31.325545</td>\n",
       "      <td>3.482456</td>\n",
       "      <td>23.100</td>\n",
       "      <td>29.200</td>\n",
       "      <td>30.800</td>\n",
       "      <td>32.500</td>\n",
       "      <td>43.900</td>\n",
       "    </tr>\n",
       "    <tr>\n",
       "      <th>2PA</th>\n",
       "      <td>963.0</td>\n",
       "      <td>64.472690</td>\n",
       "      <td>7.837518</td>\n",
       "      <td>41.900</td>\n",
       "      <td>59.600</td>\n",
       "      <td>63.900</td>\n",
       "      <td>68.000</td>\n",
       "      <td>95.200</td>\n",
       "    </tr>\n",
       "    <tr>\n",
       "      <th>2P%</th>\n",
       "      <td>963.0</td>\n",
       "      <td>0.487247</td>\n",
       "      <td>0.026350</td>\n",
       "      <td>0.421</td>\n",
       "      <td>0.469</td>\n",
       "      <td>0.484</td>\n",
       "      <td>0.504</td>\n",
       "      <td>0.575</td>\n",
       "    </tr>\n",
       "    <tr>\n",
       "      <th>FT</th>\n",
       "      <td>963.0</td>\n",
       "      <td>18.645275</td>\n",
       "      <td>2.167024</td>\n",
       "      <td>12.200</td>\n",
       "      <td>17.100</td>\n",
       "      <td>18.500</td>\n",
       "      <td>20.000</td>\n",
       "      <td>28.200</td>\n",
       "    </tr>\n",
       "    <tr>\n",
       "      <th>FTA</th>\n",
       "      <td>963.0</td>\n",
       "      <td>24.705919</td>\n",
       "      <td>2.886724</td>\n",
       "      <td>16.600</td>\n",
       "      <td>22.700</td>\n",
       "      <td>24.500</td>\n",
       "      <td>26.600</td>\n",
       "      <td>34.900</td>\n",
       "    </tr>\n",
       "    <tr>\n",
       "      <th>FT%</th>\n",
       "      <td>963.0</td>\n",
       "      <td>0.755474</td>\n",
       "      <td>0.030358</td>\n",
       "      <td>0.660</td>\n",
       "      <td>0.737</td>\n",
       "      <td>0.756</td>\n",
       "      <td>0.776</td>\n",
       "      <td>0.839</td>\n",
       "    </tr>\n",
       "    <tr>\n",
       "      <th>ORB</th>\n",
       "      <td>963.0</td>\n",
       "      <td>11.720457</td>\n",
       "      <td>1.779780</td>\n",
       "      <td>7.600</td>\n",
       "      <td>10.500</td>\n",
       "      <td>11.600</td>\n",
       "      <td>12.800</td>\n",
       "      <td>18.500</td>\n",
       "    </tr>\n",
       "    <tr>\n",
       "      <th>DRB</th>\n",
       "      <td>963.0</td>\n",
       "      <td>30.878816</td>\n",
       "      <td>2.410021</td>\n",
       "      <td>24.900</td>\n",
       "      <td>29.200</td>\n",
       "      <td>30.500</td>\n",
       "      <td>32.400</td>\n",
       "      <td>42.200</td>\n",
       "    </tr>\n",
       "    <tr>\n",
       "      <th>TRB</th>\n",
       "      <td>963.0</td>\n",
       "      <td>42.596158</td>\n",
       "      <td>2.154475</td>\n",
       "      <td>35.600</td>\n",
       "      <td>41.100</td>\n",
       "      <td>42.500</td>\n",
       "      <td>44.100</td>\n",
       "      <td>51.700</td>\n",
       "    </tr>\n",
       "    <tr>\n",
       "      <th>AST</th>\n",
       "      <td>963.0</td>\n",
       "      <td>22.555867</td>\n",
       "      <td>2.312610</td>\n",
       "      <td>15.600</td>\n",
       "      <td>20.900</td>\n",
       "      <td>22.300</td>\n",
       "      <td>24.050</td>\n",
       "      <td>30.400</td>\n",
       "    </tr>\n",
       "    <tr>\n",
       "      <th>STL</th>\n",
       "      <td>963.0</td>\n",
       "      <td>7.846417</td>\n",
       "      <td>0.994922</td>\n",
       "      <td>5.500</td>\n",
       "      <td>7.100</td>\n",
       "      <td>7.800</td>\n",
       "      <td>8.500</td>\n",
       "      <td>12.800</td>\n",
       "    </tr>\n",
       "    <tr>\n",
       "      <th>BLK</th>\n",
       "      <td>963.0</td>\n",
       "      <td>4.973624</td>\n",
       "      <td>0.871082</td>\n",
       "      <td>2.400</td>\n",
       "      <td>4.350</td>\n",
       "      <td>4.900</td>\n",
       "      <td>5.500</td>\n",
       "      <td>8.400</td>\n",
       "    </tr>\n",
       "    <tr>\n",
       "      <th>TOV</th>\n",
       "      <td>963.0</td>\n",
       "      <td>14.835929</td>\n",
       "      <td>1.319208</td>\n",
       "      <td>11.100</td>\n",
       "      <td>14.000</td>\n",
       "      <td>14.800</td>\n",
       "      <td>15.700</td>\n",
       "      <td>19.000</td>\n",
       "    </tr>\n",
       "    <tr>\n",
       "      <th>PF</th>\n",
       "      <td>963.0</td>\n",
       "      <td>21.468224</td>\n",
       "      <td>1.931221</td>\n",
       "      <td>16.600</td>\n",
       "      <td>20.100</td>\n",
       "      <td>21.300</td>\n",
       "      <td>22.750</td>\n",
       "      <td>28.100</td>\n",
       "    </tr>\n",
       "    <tr>\n",
       "      <th>PTS</th>\n",
       "      <td>963.0</td>\n",
       "      <td>101.048702</td>\n",
       "      <td>6.830827</td>\n",
       "      <td>81.900</td>\n",
       "      <td>96.200</td>\n",
       "      <td>100.400</td>\n",
       "      <td>105.450</td>\n",
       "      <td>120.100</td>\n",
       "    </tr>\n",
       "    <tr>\n",
       "      <th>Season</th>\n",
       "      <td>963.0</td>\n",
       "      <td>2006.308411</td>\n",
       "      <td>9.452332</td>\n",
       "      <td>1990.000</td>\n",
       "      <td>1998.000</td>\n",
       "      <td>2006.000</td>\n",
       "      <td>2014.000</td>\n",
       "      <td>2022.000</td>\n",
       "    </tr>\n",
       "    <tr>\n",
       "      <th>Playoffs</th>\n",
       "      <td>963.0</td>\n",
       "      <td>0.548287</td>\n",
       "      <td>0.497922</td>\n",
       "      <td>0.000</td>\n",
       "      <td>0.000</td>\n",
       "      <td>1.000</td>\n",
       "      <td>1.000</td>\n",
       "      <td>1.000</td>\n",
       "    </tr>\n",
       "    <tr>\n",
       "      <th>W</th>\n",
       "      <td>963.0</td>\n",
       "      <td>39.934579</td>\n",
       "      <td>12.882763</td>\n",
       "      <td>7.000</td>\n",
       "      <td>30.000</td>\n",
       "      <td>41.000</td>\n",
       "      <td>50.000</td>\n",
       "      <td>73.000</td>\n",
       "    </tr>\n",
       "    <tr>\n",
       "      <th>L</th>\n",
       "      <td>963.0</td>\n",
       "      <td>39.934579</td>\n",
       "      <td>12.825183</td>\n",
       "      <td>9.000</td>\n",
       "      <td>30.000</td>\n",
       "      <td>39.000</td>\n",
       "      <td>49.000</td>\n",
       "      <td>72.000</td>\n",
       "    </tr>\n",
       "  </tbody>\n",
       "</table>\n",
       "</div>"
      ],
      "text/plain": [
       "          count         mean        std       min       25%       50%  \\\n",
       "G         963.0    79.869159   6.466410    50.000    82.000    82.000   \n",
       "MP        963.0   241.724611   0.867708   240.000   241.200   241.800   \n",
       "FG        963.0    37.907996   2.622937    30.800    36.100    37.700   \n",
       "FGA       963.0    83.024403   4.204296    71.200    80.000    82.700   \n",
       "FG%       963.0     0.456461   0.017967     0.401     0.444     0.456   \n",
       "3P        963.0     6.586189   3.111732     0.500     4.200     6.100   \n",
       "3PA       963.0    18.551298   8.386482     2.400    12.700    17.100   \n",
       "3P%       963.0     0.350398   0.025551     0.188     0.338     0.353   \n",
       "2P        963.0    31.325545   3.482456    23.100    29.200    30.800   \n",
       "2PA       963.0    64.472690   7.837518    41.900    59.600    63.900   \n",
       "2P%       963.0     0.487247   0.026350     0.421     0.469     0.484   \n",
       "FT        963.0    18.645275   2.167024    12.200    17.100    18.500   \n",
       "FTA       963.0    24.705919   2.886724    16.600    22.700    24.500   \n",
       "FT%       963.0     0.755474   0.030358     0.660     0.737     0.756   \n",
       "ORB       963.0    11.720457   1.779780     7.600    10.500    11.600   \n",
       "DRB       963.0    30.878816   2.410021    24.900    29.200    30.500   \n",
       "TRB       963.0    42.596158   2.154475    35.600    41.100    42.500   \n",
       "AST       963.0    22.555867   2.312610    15.600    20.900    22.300   \n",
       "STL       963.0     7.846417   0.994922     5.500     7.100     7.800   \n",
       "BLK       963.0     4.973624   0.871082     2.400     4.350     4.900   \n",
       "TOV       963.0    14.835929   1.319208    11.100    14.000    14.800   \n",
       "PF        963.0    21.468224   1.931221    16.600    20.100    21.300   \n",
       "PTS       963.0   101.048702   6.830827    81.900    96.200   100.400   \n",
       "Season    963.0  2006.308411   9.452332  1990.000  1998.000  2006.000   \n",
       "Playoffs  963.0     0.548287   0.497922     0.000     0.000     1.000   \n",
       "W         963.0    39.934579  12.882763     7.000    30.000    41.000   \n",
       "L         963.0    39.934579  12.825183     9.000    30.000    39.000   \n",
       "\n",
       "               75%       max  \n",
       "G           82.000    82.000  \n",
       "MP         242.100   244.900  \n",
       "FG          39.600    47.600  \n",
       "FGA         86.100   108.100  \n",
       "FG%          0.468     0.512  \n",
       "3P           8.400    16.700  \n",
       "3PA         23.200    45.400  \n",
       "3P%          0.367     0.428  \n",
       "2P          32.500    43.900  \n",
       "2PA         68.000    95.200  \n",
       "2P%          0.504     0.575  \n",
       "FT          20.000    28.200  \n",
       "FTA         26.600    34.900  \n",
       "FT%          0.776     0.839  \n",
       "ORB         12.800    18.500  \n",
       "DRB         32.400    42.200  \n",
       "TRB         44.100    51.700  \n",
       "AST         24.050    30.400  \n",
       "STL          8.500    12.800  \n",
       "BLK          5.500     8.400  \n",
       "TOV         15.700    19.000  \n",
       "PF          22.750    28.100  \n",
       "PTS        105.450   120.100  \n",
       "Season    2014.000  2022.000  \n",
       "Playoffs     1.000     1.000  \n",
       "W           50.000    73.000  \n",
       "L           49.000    72.000  "
      ]
     },
     "execution_count": 36,
     "metadata": {},
     "output_type": "execute_result"
    }
   ],
   "source": [
    "per_game_stats_full_dataset_interim_df.describe().transpose()"
   ]
  },
  {
   "cell_type": "markdown",
   "id": "8a2440a7",
   "metadata": {},
   "source": [
    "### Check for missing data"
   ]
  },
  {
   "cell_type": "code",
   "execution_count": 37,
   "id": "dc622b5f",
   "metadata": {},
   "outputs": [
    {
     "data": {
      "text/plain": [
       "Team        0\n",
       "G           0\n",
       "MP          0\n",
       "FG          0\n",
       "FGA         0\n",
       "FG%         0\n",
       "3P          0\n",
       "3PA         0\n",
       "3P%         0\n",
       "2P          0\n",
       "2PA         0\n",
       "2P%         0\n",
       "FT          0\n",
       "FTA         0\n",
       "FT%         0\n",
       "ORB         0\n",
       "DRB         0\n",
       "TRB         0\n",
       "AST         0\n",
       "STL         0\n",
       "BLK         0\n",
       "TOV         0\n",
       "PF          0\n",
       "PTS         0\n",
       "Season      0\n",
       "Playoffs    0\n",
       "W           0\n",
       "L           0\n",
       "dtype: int64"
      ]
     },
     "execution_count": 37,
     "metadata": {},
     "output_type": "execute_result"
    }
   ],
   "source": [
    "per_game_stats_full_dataset_interim_df.isna().sum()"
   ]
  },
  {
   "cell_type": "markdown",
   "id": "e38c50ad",
   "metadata": {},
   "source": [
    "### Profilling data"
   ]
  },
  {
   "cell_type": "code",
   "execution_count": 38,
   "id": "32f5278c",
   "metadata": {},
   "outputs": [
    {
     "data": {
      "application/vnd.jupyter.widget-view+json": {
       "model_id": "",
       "version_major": 2,
       "version_minor": 0
      },
      "text/plain": [
       "  0%|                                                                                                         …"
      ]
     },
     "metadata": {},
     "output_type": "display_data"
    },
    {
     "name": "stderr",
     "output_type": "stream",
     "text": [
      "d:\\home\\documents\\brian\\develop\\projects\\machine learning\\beginner\\linear regression\\predicting_nba_wins\\.venv\\lib\\site-packages\\dataprep\\eda\\distribution\\render.py:274: FutureWarning: The frame.append method is deprecated and will be removed from pandas in a future version. Use pandas.concat instead.\n",
      "  df = df.append(pd.DataFrame({col: [nrows - npresent]}, index=[\"Others\"]))\n"
     ]
    }
   ],
   "source": [
    "report = eda.create_report(per_game_stats_full_dataset_interim_df)"
   ]
  },
  {
   "cell_type": "markdown",
   "id": "57c2cb65",
   "metadata": {},
   "source": [
    "### Show report in new tab"
   ]
  },
  {
   "cell_type": "code",
   "execution_count": 39,
   "id": "c1d109bf",
   "metadata": {},
   "outputs": [],
   "source": [
    "report.show_browser()"
   ]
  },
  {
   "cell_type": "markdown",
   "id": "ec17246f",
   "metadata": {},
   "source": [
    "### Saving report"
   ]
  },
  {
   "cell_type": "code",
   "execution_count": 40,
   "id": "ca652ed4",
   "metadata": {},
   "outputs": [
    {
     "name": "stdout",
     "output_type": "stream",
     "text": [
      "Report has been saved to ..\\..\\reports\\Stats Per game dataset report.html!\n"
     ]
    }
   ],
   "source": [
    "report.save(\"../../reports/Stats Per game dataset report.html\")"
   ]
  },
  {
   "cell_type": "markdown",
   "id": "84536417",
   "metadata": {},
   "source": [
    "#### Saving dataset sample as html"
   ]
  },
  {
   "cell_type": "code",
   "execution_count": 41,
   "id": "dc730baa",
   "metadata": {},
   "outputs": [],
   "source": [
    "with open('../../reports/tables/per_game_stats_full_dataset_interim_sample.html', 'w') as per_game_stats_full_dataset_interim_sample:\n",
    "    per_game_stats_full_dataset_interim_sample.write(\n",
    "        per_game_stats_full_dataset_interim_df.sample(5).to_html(index=False)\n",
    "    )"
   ]
  },
  {
   "cell_type": "markdown",
   "id": "92cb1012",
   "metadata": {},
   "source": [
    "## Understanding features"
   ]
  },
  {
   "cell_type": "markdown",
   "id": "0f7e562e",
   "metadata": {},
   "source": [
    "### `2P` feature"
   ]
  },
  {
   "cell_type": "markdown",
   "id": "69f4e87b",
   "metadata": {},
   "source": [
    "#### Visualizing data"
   ]
  },
  {
   "cell_type": "code",
   "execution_count": 42,
   "id": "f2b66ea5",
   "metadata": {},
   "outputs": [
    {
     "data": {
      "image/png": "[encoded data removed]",
      "text/plain": [
       "<Figure size 432x288 with 1 Axes>"
      ]
     },
     "metadata": {
      "needs_background": "light"
     },
     "output_type": "display_data"
    }
   ],
   "source": [
    "sns.histplot(x='2P', data=per_game_stats_full_dataset_interim_df)\n",
    "plt.show()"
   ]
  },
  {
   "cell_type": "markdown",
   "id": "21abcab6",
   "metadata": {},
   "source": [
    "#### KDE Plot"
   ]
  },
  {
   "cell_type": "code",
   "execution_count": 58,
   "id": "eb8d530c",
   "metadata": {},
   "outputs": [
    {
     "data": {
      "image/png": "[encoded data removed]",
      "text/plain": [
       "<Figure size 432x288 with 1 Axes>"
      ]
     },
     "metadata": {
      "needs_background": "light"
     },
     "output_type": "display_data"
    }
   ],
   "source": [
    "sns.kdeplot(x='2P', data=per_game_stats_full_dataset_interim_df, shade = True, color = \"blue\")\n",
    "plt.show()"
   ]
  },
  {
   "cell_type": "markdown",
   "id": "8960e519",
   "metadata": {},
   "source": [
    "#### Skewness\n",
    "\n",
    "In simple words, skewness is the measure of how much the probability distribution of a random variable deviates from the normal distribution. Now, you might be thinking – why am I talking about normal distribution here?\n",
    "\n",
    "Well, the normal distribution is the probability distribution without any skewness. You can look at the image below which shows symmetrical distribution that’s basically a normal distribution and you can see that it is symmetrical on both sides of the dashed line."
   ]
  },
  {
   "cell_type": "code",
   "execution_count": 50,
   "id": "22f01e59",
   "metadata": {},
   "outputs": [],
   "source": [
    "from scipy.stats import skew"
   ]
  },
  {
   "cell_type": "code",
   "execution_count": 52,
   "id": "e1803242",
   "metadata": {},
   "outputs": [
    {
     "data": {
      "text/plain": [
       "1.0612528588462138"
      ]
     },
     "execution_count": 52,
     "metadata": {},
     "output_type": "execute_result"
    }
   ],
   "source": [
    "skewness = skew(per_game_stats_full_dataset_interim_df['2P'])\n",
    "skewness"
   ]
  },
  {
   "cell_type": "markdown",
   "id": "e70cb782",
   "metadata": {},
   "source": [
    "> **A skewness value greater than 1 or less than -1 indicates a highly skewed distribution.** A value between 0.5 and 1 or -0.5 and -1 is moderately skewed. A value between -0.5 and 0.5 indicates that the distribution is fairly symmetrical."
   ]
  },
  {
   "cell_type": "markdown",
   "id": "e183cafe",
   "metadata": {},
   "source": [
    "#### Box plot\n",
    "\n",
    "A boxplot can give you information regarding the shape, variability, and center (or median) of a statistical data set. \n",
    "\n",
    "A boxplot can show whether a data set is symmetric (roughly the same on each side when cut down the middle) or skewed (lopsided). A symmetric data set shows the median roughly in the middle of the box.\n",
    "The median, part of the five-number summary, is shown by the line that cuts through the box in the boxplot.\n",
    "\n",
    "Skewed data show a lopsided boxplot, where the median cuts the box into two unequal pieces. If the longer part of the box is to the right (or above) the median, the data is said to be skewed right. If the longer part is to the left (or below) the median, the data is skewed left.\n",
    "\n",
    "> If one side of the box is longer than the other, it does not mean that side contains more data. In fact, you can't tell the sample size by looking at a boxplot; it's based on percentages of the sample size, not the sample size itself. Each section of the boxplot (the minimum to Q1, Q1 to the median, the median to Q3, and Q3 to the maximum) contains 25 percent of the data no matter what. If one of the sections is longer than another, it indicates a wider range in the values of data in that section (meaning the data are more spread out). A smaller section of the boxplot indicates the data are more condensed (closer together).\n",
    "\n",
    "The five number summary includes 5 items:\n",
    "    \n",
    "![](https://miro.medium.com/max/700/1*8lzi5NGN87MPJ72qBr4nbg.png)"
   ]
  },
  {
   "cell_type": "code",
   "execution_count": 81,
   "id": "e995072c",
   "metadata": {},
   "outputs": [
    {
     "data": {
      "image/png": "[encoded data removed]",
      "text/plain": [
       "<Figure size 432x288 with 1 Axes>"
      ]
     },
     "metadata": {
      "needs_background": "light"
     },
     "output_type": "display_data"
    }
   ],
   "source": [
    "sns.boxplot(\n",
    "    x='2P', data=per_game_stats_full_dataset_interim_df,\n",
    "    showmeans=True, \n",
    "    meanprops={\"marker\":\"o\", \"markerfacecolor\":\"white\", \"markeredgecolor\":\"black\", \"markersize\":\"8\"}\n",
    ")\n",
    "plt.show()"
   ]
  },
  {
   "cell_type": "markdown",
   "id": "9fee6783",
   "metadata": {},
   "source": [
    "|      Statistic       | Value |                                                                                                       Explanation                                                                                                       |\n",
    "|:--------------------:|:-----:|:-----------------------------------------------------------------------------------------------------------------------------------------------------------------------------------------------------------------------:|\n",
    "|     **Minimum**      | 23.1  |                                                                                             The smaller observation is 23.1                                                                                             |\n",
    "| **5-th Percentile**  | 26.7  |                                                                                   Less than 5% of observations are smaller than 26.7                                                                                    |\n",
    "|        **Q1**        | 29.2  |                                                                                        25% of observations are smaller than 29.2                                                                                        |\n",
    "|      **Median**      | 30.8  |                                                                                    50% of observations are smaller/bigger than 30.8                                                                                     |\n",
    "|        **Q3**        | 32.5  |                                                                                        75% of observations are smaller than 32.5                                                                                        |\n",
    "| **95-th Percentile** | 38.7  |                                                                                      Only 5% of observations are bigger than 38.7                                                                                       |\n",
    "|     **Maximum**      | 43.9  |                                                                                               The max observation is 43.9                                                                                               |\n",
    "|      **Range**       | 20.8  |                                                                      The difference between the smaller observation and the bigger observation is                                                                       |\n",
    "|       **IQR**        |  3.3  | The range gives us a measurement of how spread out the entirety of our data set is. The interquartile range, which tells us how far apart Q1 and Q3 are, indicates how spread out the middle 50% of our set of data is. |\n"
   ]
  },
  {
   "cell_type": "markdown",
   "id": "99e77464",
   "metadata": {},
   "source": [
    "The dataset has almost 90 outliers, using information from the Box Plot"
   ]
  },
  {
   "cell_type": "markdown",
   "id": "1434c705",
   "metadata": {},
   "source": [
    "#### Rugplot\n",
    "\n",
    "A rug plot draws ticks on the x-axis that show the location of individual data points.\n",
    "\n",
    "The dense areas are places where most observations fall under while the heights of the ticks are inconsequential.\n",
    "\n",
    "Rug plots complement histograms when it comes to outliers because we can see where the outlier data points fall. The code below creates a rugplot and histogram for the kilometers driven feature. Note the outlier positions."
   ]
  },
  {
   "cell_type": "code",
   "execution_count": 94,
   "id": "89009c99",
   "metadata": {},
   "outputs": [
    {
     "data": {
      "image/png": "[encoded data removed]",
      "text/plain": [
       "<Figure size 720x432 with 1 Axes>"
      ]
     },
     "metadata": {
      "needs_background": "light"
     },
     "output_type": "display_data"
    }
   ],
   "source": [
    "\n",
    "plt.figure(figsize=(10,6))\n",
    "sns.rugplot(\n",
    "    x='2P', data=per_game_stats_full_dataset_interim_df,\n",
    ")\n",
    "sns.histplot(\n",
    "    x='2P', data=per_game_stats_full_dataset_interim_df,\n",
    ")\n",
    "plt.show()"
   ]
  },
  {
   "cell_type": "markdown",
   "id": "a60e70b8",
   "metadata": {},
   "source": [
    "#### Violin plot\n",
    "\n",
    "The violin plot features a combination of a box plot and a kernel density plot. This means that in addition to showing the quartiles, it also lays out the underlying distribution such as presence and location of different peaks."
   ]
  },
  {
   "cell_type": "code",
   "execution_count": 96,
   "id": "090ed67e",
   "metadata": {},
   "outputs": [
    {
     "data": {
      "image/png": "[encoded data removed]",
      "text/plain": [
       "<Figure size 1008x432 with 1 Axes>"
      ]
     },
     "metadata": {
      "needs_background": "light"
     },
     "output_type": "display_data"
    }
   ],
   "source": [
    "plt.figure(figsize=(14,6))\n",
    "sns.violinplot(\n",
    "    x='2P', data=per_game_stats_full_dataset_interim_df,\n",
    ")\n",
    "plt.show()"
   ]
  },
  {
   "cell_type": "markdown",
   "id": "aa06dacf",
   "metadata": {},
   "source": [
    "#### Kurtosis\n",
    "\n",
    "Like skewness, kurtosis is a statistical measure that is used to describe distribution. Whereas skewness differentiates extreme values in one versus the other tail, kurtosis measures extreme values in either tail. Distributions with large kurtosis exhibit tail data exceeding the tails of the normal distribution (e.g., five or more standard deviations from the mean). Distributions with low kurtosis exhibit tail data that are generally less extreme than the tails of the normal distribution.\n",
    "\n",
    "> For example in investing, high kurtosis of the return distribution implies the investor will experience occasional extreme returns (either positive or negative), more extreme than the usual + or - three standard deviations from the mean that is predicted by the normal distribution of returns. This phenomenon is known as kurtosis risk."
   ]
  },
  {
   "cell_type": "code",
   "execution_count": 86,
   "id": "c293ed2e",
   "metadata": {},
   "outputs": [],
   "source": [
    "from scipy.stats import kurtosis"
   ]
  },
  {
   "cell_type": "code",
   "execution_count": 87,
   "id": "413ce0b2",
   "metadata": {},
   "outputs": [
    {
     "data": {
      "text/plain": [
       "1.2175231535967113"
      ]
     },
     "execution_count": 87,
     "metadata": {},
     "output_type": "execute_result"
    }
   ],
   "source": [
    "kurtosis_score = kurtosis(per_game_stats_full_dataset_interim_df['2P'])\n",
    "kurtosis_score"
   ]
  },
  {
   "cell_type": "markdown",
   "id": "d9d054d1",
   "metadata": {},
   "source": [
    "![](https://www.vosesoftware.com/riskwiki/images/image15_403.gif)\n",
    "\n",
    "> A positive kurtosis means that the distribution is more peaked than a normal distribution. A negative kurtosis means that the distribution is less peaked than a normal distribution. A kurtosis of 3 means that the distribution is exactly like a normal distribution.\n",
    "\n",
    "**In our case, we have a platykurtic distribution.** The term \"platykurtic\" refers to a statistical distribution in which the excess kurtosis value is negative. For this reason, a platykurtic distribution will have thinner tails than a normal distribution will, **resulting in fewer extreme positive or negative events.** The opposite of a platykurtic distribution is a leptokurtic distribution, in which excess kurtosis is positive."
   ]
  },
  {
   "cell_type": "markdown",
   "id": "447b2b1d",
   "metadata": {},
   "source": [
    "## Second step: Feature selection\n",
    "\n",
    "Feature selection is a process where you automatically select those features in your data that contribute most to the prediction variable or output in which you are interested.\n",
    "\n",
    "Having too many irrelevant features in your data can decrease the accuracy of the models. Three benefits of performing feature selection before modeling your data are:\n",
    "\n",
    "- **Reduces Overfitting**: Less redundant data means less opportunity to make decisions based on noise.\n",
    "- **Improves Accuracy**: Less misleading data means modeling accuracy improves.\n",
    "- **Reduces Training Time**: Less data means that algorithms train faster."
   ]
  },
  {
   "cell_type": "markdown",
   "id": "2120f315",
   "metadata": {},
   "source": [
    "### Creating datasets and standarizing data"
   ]
  },
  {
   "cell_type": "code",
   "execution_count": 108,
   "id": "d15892c8",
   "metadata": {},
   "outputs": [],
   "source": [
    "COLUMNS_TO_DISCARD = ['Team','Season', 'Playoffs', 'L','G', 'MP']"
   ]
  },
  {
   "cell_type": "code",
   "execution_count": 115,
   "id": "f861cc97",
   "metadata": {},
   "outputs": [],
   "source": [
    "per_game_stats_full_dataset_interim_df_selected_columns = per_game_stats_full_dataset_interim_df.drop(COLUMNS_TO_DISCARD, axis = 1)"
   ]
  },
  {
   "cell_type": "markdown",
   "id": "e70c021d",
   "metadata": {},
   "source": [
    "#### Standarizing data"
   ]
  },
  {
   "cell_type": "markdown",
   "id": "d395b790",
   "metadata": {},
   "source": [
    "##### Initializing scaler"
   ]
  },
  {
   "cell_type": "code",
   "execution_count": 197,
   "id": "13121d1a",
   "metadata": {},
   "outputs": [],
   "source": [
    "from sklearn.preprocessing import StandardScaler\n",
    "from sklearn.model_selection import train_test_split\n",
    "\n",
    "scaler = StandardScaler()"
   ]
  },
  {
   "cell_type": "markdown",
   "id": "89a886d1",
   "metadata": {},
   "source": [
    "##### Scaling data"
   ]
  },
  {
   "cell_type": "code",
   "execution_count": 198,
   "id": "88b50c23",
   "metadata": {},
   "outputs": [
    {
     "data": {
      "text/html": [
       "<div>\n",
       "<style scoped>\n",
       "    .dataframe tbody tr th:only-of-type {\n",
       "        vertical-align: middle;\n",
       "    }\n",
       "\n",
       "    .dataframe tbody tr th {\n",
       "        vertical-align: top;\n",
       "    }\n",
       "\n",
       "    .dataframe thead th {\n",
       "        text-align: right;\n",
       "    }\n",
       "</style>\n",
       "<table border=\"1\" class=\"dataframe\">\n",
       "  <thead>\n",
       "    <tr style=\"text-align: right;\">\n",
       "      <th></th>\n",
       "      <th>FG</th>\n",
       "      <th>FGA</th>\n",
       "      <th>FG%</th>\n",
       "      <th>3P</th>\n",
       "      <th>3PA</th>\n",
       "      <th>3P%</th>\n",
       "      <th>2P</th>\n",
       "      <th>2PA</th>\n",
       "      <th>2P%</th>\n",
       "      <th>FT</th>\n",
       "      <th>...</th>\n",
       "      <th>ORB</th>\n",
       "      <th>DRB</th>\n",
       "      <th>TRB</th>\n",
       "      <th>AST</th>\n",
       "      <th>STL</th>\n",
       "      <th>BLK</th>\n",
       "      <th>TOV</th>\n",
       "      <th>PF</th>\n",
       "      <th>PTS</th>\n",
       "      <th>W</th>\n",
       "    </tr>\n",
       "  </thead>\n",
       "  <tbody>\n",
       "    <tr>\n",
       "      <th>0</th>\n",
       "      <td>2.209360</td>\n",
       "      <td>1.683819</td>\n",
       "      <td>1.589267</td>\n",
       "      <td>1.612098</td>\n",
       "      <td>1.592520</td>\n",
       "      <td>0.532638</td>\n",
       "      <td>0.222503</td>\n",
       "      <td>-0.800757</td>\n",
       "      <td>2.420726</td>\n",
       "      <td>-1.267499</td>\n",
       "      <td>...</td>\n",
       "      <td>-1.079602</td>\n",
       "      <td>1.918484</td>\n",
       "      <td>1.255641</td>\n",
       "      <td>2.095749</td>\n",
       "      <td>0.757822</td>\n",
       "      <td>-0.658861</td>\n",
       "      <td>-1.468257</td>\n",
       "      <td>-0.812460</td>\n",
       "      <td>2.014170</td>\n",
       "      <td>1.869003</td>\n",
       "    </tr>\n",
       "    <tr>\n",
       "      <th>1</th>\n",
       "      <td>2.133070</td>\n",
       "      <td>2.707114</td>\n",
       "      <td>0.252763</td>\n",
       "      <td>1.579945</td>\n",
       "      <td>1.687961</td>\n",
       "      <td>0.101900</td>\n",
       "      <td>0.193773</td>\n",
       "      <td>-0.353955</td>\n",
       "      <td>1.205671</td>\n",
       "      <td>-0.759627</td>\n",
       "      <td>...</td>\n",
       "      <td>1.337682</td>\n",
       "      <td>1.710909</td>\n",
       "      <td>3.066767</td>\n",
       "      <td>1.490058</td>\n",
       "      <td>1.964573</td>\n",
       "      <td>1.753186</td>\n",
       "      <td>-1.240729</td>\n",
       "      <td>-0.864267</td>\n",
       "      <td>2.131347</td>\n",
       "      <td>1.247696</td>\n",
       "    </tr>\n",
       "    <tr>\n",
       "      <th>2</th>\n",
       "      <td>0.988720</td>\n",
       "      <td>0.803309</td>\n",
       "      <td>0.698264</td>\n",
       "      <td>2.480233</td>\n",
       "      <td>2.487281</td>\n",
       "      <td>0.532638</td>\n",
       "      <td>-1.472584</td>\n",
       "      <td>-2.230524</td>\n",
       "      <td>2.648549</td>\n",
       "      <td>-1.406010</td>\n",
       "      <td>...</td>\n",
       "      <td>-1.079602</td>\n",
       "      <td>2.001514</td>\n",
       "      <td>1.348519</td>\n",
       "      <td>1.965958</td>\n",
       "      <td>0.958947</td>\n",
       "      <td>-0.544002</td>\n",
       "      <td>0.048593</td>\n",
       "      <td>-0.242576</td>\n",
       "      <td>1.457579</td>\n",
       "      <td>1.014705</td>\n",
       "    </tr>\n",
       "    <tr>\n",
       "      <th>3</th>\n",
       "      <td>0.645415</td>\n",
       "      <td>0.422549</td>\n",
       "      <td>0.586889</td>\n",
       "      <td>2.255161</td>\n",
       "      <td>2.057795</td>\n",
       "      <td>1.120007</td>\n",
       "      <td>-1.530045</td>\n",
       "      <td>-1.975208</td>\n",
       "      <td>1.661317</td>\n",
       "      <td>-0.621116</td>\n",
       "      <td>...</td>\n",
       "      <td>-1.079602</td>\n",
       "      <td>1.254244</td>\n",
       "      <td>0.512615</td>\n",
       "      <td>1.273740</td>\n",
       "      <td>-0.448929</td>\n",
       "      <td>-2.037174</td>\n",
       "      <td>-0.178935</td>\n",
       "      <td>-0.501614</td>\n",
       "      <td>1.311108</td>\n",
       "      <td>1.014705</td>\n",
       "    </tr>\n",
       "    <tr>\n",
       "      <th>4</th>\n",
       "      <td>0.530980</td>\n",
       "      <td>0.493941</td>\n",
       "      <td>0.252763</td>\n",
       "      <td>2.094395</td>\n",
       "      <td>2.248678</td>\n",
       "      <td>-0.015574</td>\n",
       "      <td>-1.472584</td>\n",
       "      <td>-2.128397</td>\n",
       "      <td>2.306815</td>\n",
       "      <td>-1.036648</td>\n",
       "      <td>...</td>\n",
       "      <td>-1.360682</td>\n",
       "      <td>1.212729</td>\n",
       "      <td>0.187541</td>\n",
       "      <td>0.365203</td>\n",
       "      <td>-1.152867</td>\n",
       "      <td>-1.118299</td>\n",
       "      <td>-1.771627</td>\n",
       "      <td>-0.916075</td>\n",
       "      <td>1.018165</td>\n",
       "      <td>0.937042</td>\n",
       "    </tr>\n",
       "  </tbody>\n",
       "</table>\n",
       "<p>5 rows × 22 columns</p>\n",
       "</div>"
      ],
      "text/plain": [
       "         FG       FGA       FG%        3P       3PA       3P%        2P  \\\n",
       "0  2.209360  1.683819  1.589267  1.612098  1.592520  0.532638  0.222503   \n",
       "1  2.133070  2.707114  0.252763  1.579945  1.687961  0.101900  0.193773   \n",
       "2  0.988720  0.803309  0.698264  2.480233  2.487281  0.532638 -1.472584   \n",
       "3  0.645415  0.422549  0.586889  2.255161  2.057795  1.120007 -1.530045   \n",
       "4  0.530980  0.493941  0.252763  2.094395  2.248678 -0.015574 -1.472584   \n",
       "\n",
       "        2PA       2P%        FT  ...       ORB       DRB       TRB       AST  \\\n",
       "0 -0.800757  2.420726 -1.267499  ... -1.079602  1.918484  1.255641  2.095749   \n",
       "1 -0.353955  1.205671 -0.759627  ...  1.337682  1.710909  3.066767  1.490058   \n",
       "2 -2.230524  2.648549 -1.406010  ... -1.079602  2.001514  1.348519  1.965958   \n",
       "3 -1.975208  1.661317 -0.621116  ... -1.079602  1.254244  0.512615  1.273740   \n",
       "4 -2.128397  2.306815 -1.036648  ... -1.360682  1.212729  0.187541  0.365203   \n",
       "\n",
       "        STL       BLK       TOV        PF       PTS         W  \n",
       "0  0.757822 -0.658861 -1.468257 -0.812460  2.014170  1.869003  \n",
       "1  1.964573  1.753186 -1.240729 -0.864267  2.131347  1.247696  \n",
       "2  0.958947 -0.544002  0.048593 -0.242576  1.457579  1.014705  \n",
       "3 -0.448929 -2.037174 -0.178935 -0.501614  1.311108  1.014705  \n",
       "4 -1.152867 -1.118299 -1.771627 -0.916075  1.018165  0.937042  \n",
       "\n",
       "[5 rows x 22 columns]"
      ]
     },
     "execution_count": 198,
     "metadata": {},
     "output_type": "execute_result"
    }
   ],
   "source": [
    "per_game_stats_full_dataset_interim_scaled_df = pd.DataFrame(\n",
    "    scaler.fit_transform(per_game_stats_full_dataset_interim_df_selected_columns),\n",
    "    columns = per_game_stats_full_dataset_interim_df_selected_columns.columns\n",
    ")\n",
    "\n",
    "per_game_stats_full_dataset_interim_scaled_df.head()"
   ]
  },
  {
   "cell_type": "code",
   "execution_count": 199,
   "id": "bd91067d",
   "metadata": {},
   "outputs": [],
   "source": [
    "X_scaled = per_game_stats_full_dataset_interim_scaled_df.drop('W', axis = 1)\n",
    "y_scaled = per_game_stats_full_dataset_interim_scaled_df['W']"
   ]
  },
  {
   "cell_type": "code",
   "execution_count": 200,
   "id": "310a40af",
   "metadata": {},
   "outputs": [
    {
     "data": {
      "text/html": [
       "<div>\n",
       "<style scoped>\n",
       "    .dataframe tbody tr th:only-of-type {\n",
       "        vertical-align: middle;\n",
       "    }\n",
       "\n",
       "    .dataframe tbody tr th {\n",
       "        vertical-align: top;\n",
       "    }\n",
       "\n",
       "    .dataframe thead th {\n",
       "        text-align: right;\n",
       "    }\n",
       "</style>\n",
       "<table border=\"1\" class=\"dataframe\">\n",
       "  <thead>\n",
       "    <tr style=\"text-align: right;\">\n",
       "      <th></th>\n",
       "      <th>FG</th>\n",
       "      <th>FGA</th>\n",
       "      <th>FG%</th>\n",
       "      <th>3P</th>\n",
       "      <th>3PA</th>\n",
       "      <th>3P%</th>\n",
       "      <th>2P</th>\n",
       "      <th>2PA</th>\n",
       "      <th>2P%</th>\n",
       "      <th>FT</th>\n",
       "      <th>...</th>\n",
       "      <th>FT%</th>\n",
       "      <th>ORB</th>\n",
       "      <th>DRB</th>\n",
       "      <th>TRB</th>\n",
       "      <th>AST</th>\n",
       "      <th>STL</th>\n",
       "      <th>BLK</th>\n",
       "      <th>TOV</th>\n",
       "      <th>PF</th>\n",
       "      <th>PTS</th>\n",
       "    </tr>\n",
       "  </thead>\n",
       "  <tbody>\n",
       "    <tr>\n",
       "      <th>0</th>\n",
       "      <td>2.209360</td>\n",
       "      <td>1.683819</td>\n",
       "      <td>1.589267</td>\n",
       "      <td>1.612098</td>\n",
       "      <td>1.592520</td>\n",
       "      <td>0.532638</td>\n",
       "      <td>0.222503</td>\n",
       "      <td>-0.800757</td>\n",
       "      <td>2.420726</td>\n",
       "      <td>-1.267499</td>\n",
       "      <td>...</td>\n",
       "      <td>1.368593</td>\n",
       "      <td>-1.079602</td>\n",
       "      <td>1.918484</td>\n",
       "      <td>1.255641</td>\n",
       "      <td>2.095749</td>\n",
       "      <td>0.757822</td>\n",
       "      <td>-0.658861</td>\n",
       "      <td>-1.468257</td>\n",
       "      <td>-0.812460</td>\n",
       "      <td>2.014170</td>\n",
       "    </tr>\n",
       "    <tr>\n",
       "      <th>1</th>\n",
       "      <td>2.133070</td>\n",
       "      <td>2.707114</td>\n",
       "      <td>0.252763</td>\n",
       "      <td>1.579945</td>\n",
       "      <td>1.687961</td>\n",
       "      <td>0.101900</td>\n",
       "      <td>0.193773</td>\n",
       "      <td>-0.353955</td>\n",
       "      <td>1.205671</td>\n",
       "      <td>-0.759627</td>\n",
       "      <td>...</td>\n",
       "      <td>-0.707705</td>\n",
       "      <td>1.337682</td>\n",
       "      <td>1.710909</td>\n",
       "      <td>3.066767</td>\n",
       "      <td>1.490058</td>\n",
       "      <td>1.964573</td>\n",
       "      <td>1.753186</td>\n",
       "      <td>-1.240729</td>\n",
       "      <td>-0.864267</td>\n",
       "      <td>2.131347</td>\n",
       "    </tr>\n",
       "    <tr>\n",
       "      <th>2</th>\n",
       "      <td>0.988720</td>\n",
       "      <td>0.803309</td>\n",
       "      <td>0.698264</td>\n",
       "      <td>2.480233</td>\n",
       "      <td>2.487281</td>\n",
       "      <td>0.532638</td>\n",
       "      <td>-1.472584</td>\n",
       "      <td>-2.230524</td>\n",
       "      <td>2.648549</td>\n",
       "      <td>-1.406010</td>\n",
       "      <td>...</td>\n",
       "      <td>0.445794</td>\n",
       "      <td>-1.079602</td>\n",
       "      <td>2.001514</td>\n",
       "      <td>1.348519</td>\n",
       "      <td>1.965958</td>\n",
       "      <td>0.958947</td>\n",
       "      <td>-0.544002</td>\n",
       "      <td>0.048593</td>\n",
       "      <td>-0.242576</td>\n",
       "      <td>1.457579</td>\n",
       "    </tr>\n",
       "    <tr>\n",
       "      <th>3</th>\n",
       "      <td>0.645415</td>\n",
       "      <td>0.422549</td>\n",
       "      <td>0.586889</td>\n",
       "      <td>2.255161</td>\n",
       "      <td>2.057795</td>\n",
       "      <td>1.120007</td>\n",
       "      <td>-1.530045</td>\n",
       "      <td>-1.975208</td>\n",
       "      <td>1.661317</td>\n",
       "      <td>-0.621116</td>\n",
       "      <td>...</td>\n",
       "      <td>1.731122</td>\n",
       "      <td>-1.079602</td>\n",
       "      <td>1.254244</td>\n",
       "      <td>0.512615</td>\n",
       "      <td>1.273740</td>\n",
       "      <td>-0.448929</td>\n",
       "      <td>-2.037174</td>\n",
       "      <td>-0.178935</td>\n",
       "      <td>-0.501614</td>\n",
       "      <td>1.311108</td>\n",
       "    </tr>\n",
       "    <tr>\n",
       "      <th>4</th>\n",
       "      <td>0.530980</td>\n",
       "      <td>0.493941</td>\n",
       "      <td>0.252763</td>\n",
       "      <td>2.094395</td>\n",
       "      <td>2.248678</td>\n",
       "      <td>-0.015574</td>\n",
       "      <td>-1.472584</td>\n",
       "      <td>-2.128397</td>\n",
       "      <td>2.306815</td>\n",
       "      <td>-1.036648</td>\n",
       "      <td>...</td>\n",
       "      <td>0.511708</td>\n",
       "      <td>-1.360682</td>\n",
       "      <td>1.212729</td>\n",
       "      <td>0.187541</td>\n",
       "      <td>0.365203</td>\n",
       "      <td>-1.152867</td>\n",
       "      <td>-1.118299</td>\n",
       "      <td>-1.771627</td>\n",
       "      <td>-0.916075</td>\n",
       "      <td>1.018165</td>\n",
       "    </tr>\n",
       "  </tbody>\n",
       "</table>\n",
       "<p>5 rows × 21 columns</p>\n",
       "</div>"
      ],
      "text/plain": [
       "         FG       FGA       FG%        3P       3PA       3P%        2P  \\\n",
       "0  2.209360  1.683819  1.589267  1.612098  1.592520  0.532638  0.222503   \n",
       "1  2.133070  2.707114  0.252763  1.579945  1.687961  0.101900  0.193773   \n",
       "2  0.988720  0.803309  0.698264  2.480233  2.487281  0.532638 -1.472584   \n",
       "3  0.645415  0.422549  0.586889  2.255161  2.057795  1.120007 -1.530045   \n",
       "4  0.530980  0.493941  0.252763  2.094395  2.248678 -0.015574 -1.472584   \n",
       "\n",
       "        2PA       2P%        FT  ...       FT%       ORB       DRB       TRB  \\\n",
       "0 -0.800757  2.420726 -1.267499  ...  1.368593 -1.079602  1.918484  1.255641   \n",
       "1 -0.353955  1.205671 -0.759627  ... -0.707705  1.337682  1.710909  3.066767   \n",
       "2 -2.230524  2.648549 -1.406010  ...  0.445794 -1.079602  2.001514  1.348519   \n",
       "3 -1.975208  1.661317 -0.621116  ...  1.731122 -1.079602  1.254244  0.512615   \n",
       "4 -2.128397  2.306815 -1.036648  ...  0.511708 -1.360682  1.212729  0.187541   \n",
       "\n",
       "        AST       STL       BLK       TOV        PF       PTS  \n",
       "0  2.095749  0.757822 -0.658861 -1.468257 -0.812460  2.014170  \n",
       "1  1.490058  1.964573  1.753186 -1.240729 -0.864267  2.131347  \n",
       "2  1.965958  0.958947 -0.544002  0.048593 -0.242576  1.457579  \n",
       "3  1.273740 -0.448929 -2.037174 -0.178935 -0.501614  1.311108  \n",
       "4  0.365203 -1.152867 -1.118299 -1.771627 -0.916075  1.018165  \n",
       "\n",
       "[5 rows x 21 columns]"
      ]
     },
     "execution_count": 200,
     "metadata": {},
     "output_type": "execute_result"
    }
   ],
   "source": [
    "X.head()"
   ]
  },
  {
   "cell_type": "code",
   "execution_count": 201,
   "id": "f9fe0d8c",
   "metadata": {},
   "outputs": [
    {
     "name": "stdout",
     "output_type": "stream",
     "text": [
      "<class 'pandas.core.series.Series'>\n",
      "RangeIndex: 963 entries, 0 to 962\n",
      "Series name: W\n",
      "Non-Null Count  Dtype  \n",
      "--------------  -----  \n",
      "963 non-null    float64\n",
      "dtypes: float64(1)\n",
      "memory usage: 7.6 KB\n"
     ]
    }
   ],
   "source": [
    "y.info()"
   ]
  },
  {
   "cell_type": "code",
   "execution_count": 202,
   "id": "5df6e3d5",
   "metadata": {},
   "outputs": [],
   "source": [
    "X_train, X_test, y_train, y_test = train_test_split(\n",
    "    X_scaled, y_scaled,\n",
    "    test_size=0.3, random_state=42\n",
    ")"
   ]
  },
  {
   "cell_type": "markdown",
   "id": "d101dac4",
   "metadata": {},
   "source": [
    "### Recursive Feature Elimination\n",
    "\n",
    "The Recursive Feature Elimination (RFE) method is a feature selection approach. It works by recursively removing attributes and building a model on those attributes that remain. It uses the model accuracy to identify which attributes (and combination of attributes) contribute the most to predicting the target attribute."
   ]
  },
  {
   "cell_type": "code",
   "execution_count": 203,
   "id": "5c0391b8",
   "metadata": {},
   "outputs": [
    {
     "data": {
      "text/html": [
       "<style>#sk-container-id-19 {color: black;background-color: white;}#sk-container-id-19 pre{padding: 0;}#sk-container-id-19 div.sk-toggleable {background-color: white;}#sk-container-id-19 label.sk-toggleable__label {cursor: pointer;display: block;width: 100%;margin-bottom: 0;padding: 0.3em;box-sizing: border-box;text-align: center;}#sk-container-id-19 label.sk-toggleable__label-arrow:before {content: \"▸\";float: left;margin-right: 0.25em;color: #696969;}#sk-container-id-19 label.sk-toggleable__label-arrow:hover:before {color: black;}#sk-container-id-19 div.sk-estimator:hover label.sk-toggleable__label-arrow:before {color: black;}#sk-container-id-19 div.sk-toggleable__content {max-height: 0;max-width: 0;overflow: hidden;text-align: left;background-color: #f0f8ff;}#sk-container-id-19 div.sk-toggleable__content pre {margin: 0.2em;color: black;border-radius: 0.25em;background-color: #f0f8ff;}#sk-container-id-19 input.sk-toggleable__control:checked~div.sk-toggleable__content {max-height: 200px;max-width: 100%;overflow: auto;}#sk-container-id-19 input.sk-toggleable__control:checked~label.sk-toggleable__label-arrow:before {content: \"▾\";}#sk-container-id-19 div.sk-estimator input.sk-toggleable__control:checked~label.sk-toggleable__label {background-color: #d4ebff;}#sk-container-id-19 div.sk-label input.sk-toggleable__control:checked~label.sk-toggleable__label {background-color: #d4ebff;}#sk-container-id-19 input.sk-hidden--visually {border: 0;clip: rect(1px 1px 1px 1px);clip: rect(1px, 1px, 1px, 1px);height: 1px;margin: -1px;overflow: hidden;padding: 0;position: absolute;width: 1px;}#sk-container-id-19 div.sk-estimator {font-family: monospace;background-color: #f0f8ff;border: 1px dotted black;border-radius: 0.25em;box-sizing: border-box;margin-bottom: 0.5em;}#sk-container-id-19 div.sk-estimator:hover {background-color: #d4ebff;}#sk-container-id-19 div.sk-parallel-item::after {content: \"\";width: 100%;border-bottom: 1px solid gray;flex-grow: 1;}#sk-container-id-19 div.sk-label:hover label.sk-toggleable__label {background-color: #d4ebff;}#sk-container-id-19 div.sk-serial::before {content: \"\";position: absolute;border-left: 1px solid gray;box-sizing: border-box;top: 0;bottom: 0;left: 50%;z-index: 0;}#sk-container-id-19 div.sk-serial {display: flex;flex-direction: column;align-items: center;background-color: white;padding-right: 0.2em;padding-left: 0.2em;position: relative;}#sk-container-id-19 div.sk-item {position: relative;z-index: 1;}#sk-container-id-19 div.sk-parallel {display: flex;align-items: stretch;justify-content: center;background-color: white;position: relative;}#sk-container-id-19 div.sk-item::before, #sk-container-id-19 div.sk-parallel-item::before {content: \"\";position: absolute;border-left: 1px solid gray;box-sizing: border-box;top: 0;bottom: 0;left: 50%;z-index: -1;}#sk-container-id-19 div.sk-parallel-item {display: flex;flex-direction: column;z-index: 1;position: relative;background-color: white;}#sk-container-id-19 div.sk-parallel-item:first-child::after {align-self: flex-end;width: 50%;}#sk-container-id-19 div.sk-parallel-item:last-child::after {align-self: flex-start;width: 50%;}#sk-container-id-19 div.sk-parallel-item:only-child::after {width: 0;}#sk-container-id-19 div.sk-dashed-wrapped {border: 1px dashed gray;margin: 0 0.4em 0.5em 0.4em;box-sizing: border-box;padding-bottom: 0.4em;background-color: white;}#sk-container-id-19 div.sk-label label {font-family: monospace;font-weight: bold;display: inline-block;line-height: 1.2em;}#sk-container-id-19 div.sk-label-container {text-align: center;}#sk-container-id-19 div.sk-container {/* jupyter's `normalize.less` sets `[hidden] { display: none; }` but bootstrap.min.css set `[hidden] { display: none !important; }` so we also need the `!important` here to be able to override the default hidden behavior on the sphinx rendered scikit-learn.org. See: https://github.com/scikit-learn/scikit-learn/issues/21755 */display: inline-block !important;position: relative;}#sk-container-id-19 div.sk-text-repr-fallback {display: none;}</style><div id=\"sk-container-id-19\" class=\"sk-top-container\"><div class=\"sk-text-repr-fallback\"><pre>RFE(estimator=LinearRegression(), n_features_to_select=5)</pre><b>In a Jupyter environment, please rerun this cell to show the HTML representation or trust the notebook. <br />On GitHub, the HTML representation is unable to render, please try loading this page with nbviewer.org.</b></div><div class=\"sk-container\" hidden><div class=\"sk-item sk-dashed-wrapped\"><div class=\"sk-label-container\"><div class=\"sk-label sk-toggleable\"><input class=\"sk-toggleable__control sk-hidden--visually\" id=\"sk-estimator-id-55\" type=\"checkbox\" ><label for=\"sk-estimator-id-55\" class=\"sk-toggleable__label sk-toggleable__label-arrow\">RFE</label><div class=\"sk-toggleable__content\"><pre>RFE(estimator=LinearRegression(), n_features_to_select=5)</pre></div></div></div><div class=\"sk-parallel\"><div class=\"sk-parallel-item\"><div class=\"sk-item\"><div class=\"sk-label-container\"><div class=\"sk-label sk-toggleable\"><input class=\"sk-toggleable__control sk-hidden--visually\" id=\"sk-estimator-id-56\" type=\"checkbox\" ><label for=\"sk-estimator-id-56\" class=\"sk-toggleable__label sk-toggleable__label-arrow\">estimator: LinearRegression</label><div class=\"sk-toggleable__content\"><pre>LinearRegression()</pre></div></div></div><div class=\"sk-serial\"><div class=\"sk-item\"><div class=\"sk-estimator sk-toggleable\"><input class=\"sk-toggleable__control sk-hidden--visually\" id=\"sk-estimator-id-57\" type=\"checkbox\" ><label for=\"sk-estimator-id-57\" class=\"sk-toggleable__label sk-toggleable__label-arrow\">LinearRegression</label><div class=\"sk-toggleable__content\"><pre>LinearRegression()</pre></div></div></div></div></div></div></div></div></div></div>"
      ],
      "text/plain": [
       "RFE(estimator=LinearRegression(), n_features_to_select=5)"
      ]
     },
     "execution_count": 203,
     "metadata": {},
     "output_type": "execute_result"
    }
   ],
   "source": [
    "# Recursive Feature Elimination\n",
    "from sklearn import datasets\n",
    "from sklearn.feature_selection import RFE\n",
    "from sklearn.linear_model import LinearRegression\n",
    "\n",
    "estimator = LinearRegression()\n",
    "# create the RFE model and select 3 attributes\n",
    "selector = RFE(\n",
    "    estimator,\n",
    "    n_features_to_select=5,\n",
    "    step = 1\n",
    ")\n",
    "\n",
    "selector.fit(X_train,y_train)"
   ]
  },
  {
   "cell_type": "code",
   "execution_count": 204,
   "id": "e372b607",
   "metadata": {},
   "outputs": [
    {
     "data": {
      "text/plain": [
       "Index(['FGA', 'FG%', '3P', '3PA', '2PA'], dtype='object')"
      ]
     },
     "execution_count": 204,
     "metadata": {},
     "output_type": "execute_result"
    }
   ],
   "source": [
    "X.columns[selector.support_]"
   ]
  },
  {
   "cell_type": "code",
   "execution_count": 207,
   "id": "960bd88a",
   "metadata": {},
   "outputs": [
    {
     "data": {
      "text/plain": [
       "0.4040804152878176"
      ]
     },
     "execution_count": 207,
     "metadata": {},
     "output_type": "execute_result"
    }
   ],
   "source": [
    "selector.score(X_test,y_test)"
   ]
  },
  {
   "cell_type": "markdown",
   "id": "2d438dec",
   "metadata": {},
   "source": [
    "### Univariate Feature Selection with SelectKBest\n",
    "\n",
    "Univariate Feature Selection is a feature selection method based on the univariate statistical test, e,g: chi2, Pearson-correlation, and many more.\n",
    "\n",
    "The premise with SelectKBest is combining the univariate statistical test with selecting the K-number of features based on the statistical result between the X and y."
   ]
  },
  {
   "cell_type": "code",
   "execution_count": 211,
   "id": "59a1cd81",
   "metadata": {},
   "outputs": [],
   "source": [
    "from sklearn.feature_selection import SelectKBest, mutual_info_regression"
   ]
  },
  {
   "cell_type": "code",
   "execution_count": 210,
   "id": "703b7ff4",
   "metadata": {},
   "outputs": [
    {
     "data": {
      "text/plain": [
       "Index(['FG%', '3P%', '2P%', 'DRB'], dtype='object')"
      ]
     },
     "execution_count": 210,
     "metadata": {},
     "output_type": "execute_result"
    }
   ],
   "source": [
    "selector = SelectKBest(mutual_info_regression, k = 4)\n",
    "selector.fit(X_scaled, y_scaled)\n",
    "X_train.columns[selector.get_support()]"
   ]
  },
  {
   "cell_type": "markdown",
   "id": "a1258431",
   "metadata": {},
   "source": [
    "Based on the mutual info regression, we only select the ‘displacement,’ and ‘weight’ features like these are the top features."
   ]
  },
  {
   "cell_type": "code",
   "execution_count": null,
   "id": "f0764466",
   "metadata": {},
   "outputs": [],
   "source": []
  },
  {
   "cell_type": "code",
   "execution_count": null,
   "id": "9e3f63fe",
   "metadata": {},
   "outputs": [],
   "source": []
  },
  {
   "cell_type": "code",
   "execution_count": null,
   "id": "be64c3b9",
   "metadata": {},
   "outputs": [],
   "source": []
  },
  {
   "cell_type": "markdown",
   "id": "3c374d8b",
   "metadata": {},
   "source": [
    "## Visualization time"
   ]
  },
  {
   "cell_type": "markdown",
   "id": "034aed3f",
   "metadata": {},
   "source": [
    "## Basic summary\n",
    "\n",
    "- We don't have empty values, we fixed them through previous stages of the pipeline\n",
    "- Team is useful for spec"
   ]
  },
  {
   "cell_type": "code",
   "execution_count": null,
   "id": "3267c135",
   "metadata": {},
   "outputs": [],
   "source": []
  }
 ],
 "metadata": {
  "kernelspec": {
   "display_name": "Python 3 (ipykernel)",
   "language": "python",
   "name": "python3"
  },
  "language_info": {
   "codemirror_mode": {
    "name": "ipython",
    "version": 3
   },
   "file_extension": ".py",
   "mimetype": "text/x-python",
   "name": "python",
   "nbconvert_exporter": "python",
   "pygments_lexer": "ipython3",
   "version": "3.9.5"
  },
  "toc": {
   "base_numbering": 1,
   "nav_menu": {},
   "number_sections": true,
   "sideBar": true,
   "skip_h1_title": false,
   "title_cell": "Table of Contents",
   "title_sidebar": "Contents",
   "toc_cell": false,
   "toc_position": {},
   "toc_section_display": true,
   "toc_window_display": false
  }
 },
 "nbformat": 4,
 "nbformat_minor": 5
}
